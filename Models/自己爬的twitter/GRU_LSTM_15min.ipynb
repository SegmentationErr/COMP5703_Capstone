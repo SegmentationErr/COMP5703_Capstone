{
 "cells": [
  {
   "cell_type": "code",
   "execution_count": null,
   "metadata": {},
   "outputs": [],
   "source": [
    "import numpy as np\n",
    "import pandas as pd\n",
    "import matplotlib.pyplot as plt\n",
    "import time\n",
    "import tensorflow as tf\n",
    "from tensorflow import keras\n",
    "from keras import layers\n",
    "from sklearn.preprocessing import MinMaxScaler, StandardScaler\n",
    "from sklearn.metrics import mean_squared_error, mean_absolute_error\n",
    "from keras.layers import Dropout\n",
    "from keras.engine.sequential import Sequential\n",
    "from keras.layers import Dense, Activation\n",
    "from tensorflow.keras.optimizers import Adam, SGD"
   ]
  },
  {
   "cell_type": "code",
   "execution_count": null,
   "metadata": {},
   "outputs": [],
   "source": [
    "data_path = 'data/201709-202201_15min.csv'\n",
    "\n",
    "data = pd.read_csv(data_path)\n",
    "# data = data[(data['timestamp'] >= '2018-08-22') & (data['timestamp'] <= '2019-05-13')]\n",
    "data = data.drop(['timestamp'], axis=1)\n",
    "\n",
    "data.head()"
   ]
  },
  {
   "cell_type": "code",
   "execution_count": null,
   "metadata": {},
   "outputs": [],
   "source": [
    "'''Price Data:'''\n",
    "# data_features = data.drop(['price_close', 'MACD', 'SMA', 'OBV', 'RSI', 'MFI', 'vader_pos', 'vader_neg', 'vader_neu', 'vader_compound', 'pos_count', 'neg_count', 'neu_count'], axis=1)\n",
    "\n",
    "'''Price Data + Technical Indicator:'''\n",
    "# data_features = data.drop(['price_close', 'vader_pos', 'vader_neg', 'vader_neu', 'vader_compound', 'pos_count', 'neg_count', 'neu_count'], axis=1)\n",
    "\n",
    "'''Price Data + Sentiment Indicator:'''\n",
    "# data_features = data.drop(['price_close', 'MACD', 'SMA', 'OBV', 'RSI', 'MFI', 'pos_count', 'neg_count', 'neu_count'], axis=1)\n",
    "\n",
    "'''Price Data + Technical Indicator + Sentiment Indicator:'''\n",
    "# data_features = data.drop(['price_close', 'pos_count', 'neg_count', 'neu_count'], axis=1)\n",
    "\n",
    "'''Price Data + Technical Indicator in 30 MIN data:'''\n",
    "# data_features = data.drop(['price_close', 'vader_pos', 'vader_neg', 'vader_neu', 'vader_compound', 'pos_count', 'neg_count', 'neu_count', 'pos_keywords_occur', 'neg_keywords_occur'], axis=1)\n",
    "\n",
    "'''Price Data + Selected Features'''\n",
    "data_features = data.drop(['price_close', 'MFI', 'vader_compound',\t'pos_count', 'neg_count', 'neu_count'], axis=1)\n",
    "\n",
    "data_labels = data['price_close']\n",
    "\n",
    "scaler_feature = MinMaxScaler(feature_range=(0, 1))\n",
    "scaler_label = MinMaxScaler(feature_range=(0, 1))\n",
    "\n",
    "feature = scaler_feature.fit_transform(data_features.to_numpy())\n",
    "label = scaler_label.fit_transform(data_labels.to_numpy().reshape(-1, 1))\n",
    "\n",
    "\n",
    "train_size1 = int(0.8 * len(label))\n",
    "train_size2 = int(0.9 * len(label))"
   ]
  },
  {
   "cell_type": "code",
   "execution_count": null,
   "metadata": {},
   "outputs": [],
   "source": [
    "def split_data(f, l, delay):\n",
    "    feature, label = [], []\n",
    "\n",
    "    for i in range(len(f) - delay):\n",
    "        feature.append(f[i: i + delay])\n",
    "        label.append(l[i + delay-1])\n",
    "        \n",
    "    return np.array(feature), np.array(label).squeeze()\n",
    "\n",
    "window_size = 5\n",
    "\n",
    "X_train, y_train = split_data(feature[:train_size1], label[:train_size1], window_size)\n",
    "X_train2, y_train2 = split_data(feature[train_size1:train_size2], label[train_size1:train_size2], window_size)\n",
    "X_test, y_test = split_data(feature[train_size2:], label[train_size2:], window_size)"
   ]
  },
  {
   "cell_type": "markdown",
   "metadata": {},
   "source": [
    "# Define Base Models"
   ]
  },
  {
   "cell_type": "code",
   "execution_count": null,
   "metadata": {},
   "outputs": [],
   "source": [
    "nGRU = 7\n",
    "nLSTM = 3"
   ]
  },
  {
   "cell_type": "code",
   "execution_count": null,
   "metadata": {},
   "outputs": [],
   "source": [
    "GRUs = [\n",
    "    keras.Sequential([\n",
    "        layers.GRU(512),\n",
    "        layers.Dense(512),\n",
    "        layers.Dense(1)\n",
    "    ]) for i in range(nGRU)\n",
    "]\n",
    "\n",
    "LSTMs = [\n",
    "    keras.Sequential([\n",
    "        layers.LSTM(512),\n",
    "        layers.Dropout(0.2),\n",
    "        layers.Dense(1)\n",
    "    ]) for i in range(nLSTM)\n",
    "]"
   ]
  },
  {
   "cell_type": "markdown",
   "metadata": {},
   "source": [
    "# Train Models"
   ]
  },
  {
   "cell_type": "code",
   "execution_count": null,
   "metadata": {},
   "outputs": [],
   "source": [
    "for i, model in enumerate(GRUs):\n",
    "    model.compile(loss='mean_squared_error',\n",
    "                  optimizer=keras.optimizers.Adam(lr=0.001, beta_1=0.9, beta_2=0.999, epsilon=1e-08, decay=0.00005),\n",
    "                  metrics=[keras.metrics.RootMeanSquaredError()]\n",
    "                  )\n",
    "    history = model.fit(X_train, y_train,\n",
    "                        epochs=30,\n",
    "                        batch_size=4,\n",
    "                        validation_data=(X_train2, y_train2),\n",
    "                        callbacks=[keras.callbacks.ModelCheckpoint('gru-15min-'+str(i)+'.h5', verbose=1, monitor='val_root_mean_squared_error',save_best_only=True, mode='auto')],\n",
    "                        shuffle=True\n",
    "                        )"
   ]
  },
  {
   "cell_type": "code",
   "execution_count": null,
   "metadata": {},
   "outputs": [],
   "source": [
    "EPOCHS = 50\n",
    "BATCH_SIZE = 16\n",
    "LEARNING_RATE = 1e-3\n",
    "DECAY_RATE = -0.6\n",
    "\n",
    "def lr_scheduler(epoch, lr):\n",
    "    if epoch % 10== 0 and epoch > 0:\n",
    "        lr *= tf.math.exp(DECAY_RATE)\n",
    "    \n",
    "    return lr\n",
    "\n",
    "lr_scheduler_callback = tf.keras.callbacks.LearningRateScheduler(lr_scheduler, verbose=1)\n",
    "\n",
    "for i, model in enumerate(LSTMs):\n",
    "  model.compile(loss='mse', optimizer=keras.optimizers.Adam(learning_rate=1e-3), metrics=[tf.keras.metrics.RootMeanSquaredError()])\n",
    "  history = model.fit(X_train, y_train, \n",
    "                    batch_size=BATCH_SIZE, \n",
    "                    epochs=EPOCHS, \n",
    "                    validation_data=(X_train2, y_train2), \n",
    "                    shuffle=False,\n",
    "                    callbacks=[tf.keras.callbacks.ModelCheckpoint(filepath='lstm-15min-'+str(i)+'.h5', monitor='val_root_mean_squared_error', mode='min', save_best_only=True,  verbose=1), lr_scheduler_callback]\n",
    "                    )"
   ]
  },
  {
   "cell_type": "markdown",
   "metadata": {},
   "source": [
    "# Predict Results for Base Models"
   ]
  },
  {
   "cell_type": "code",
   "execution_count": null,
   "metadata": {},
   "outputs": [],
   "source": [
    "GRU = [tf.keras.models.load_model('gru-15min-'+str(i)+'.h5') for i in range(nGRU)]\n",
    "LSTM = [tf.keras.models.load_model('lstm-15min-'+str(i)+'.h5') for i in range(nLSTM)]"
   ]
  },
  {
   "cell_type": "code",
   "execution_count": null,
   "metadata": {},
   "outputs": [],
   "source": [
    "pred_GRU = [model.predict(X_test) for model in GRU]\n",
    "pred_LSTM = [model.predict(X_test) for model in LSTM]"
   ]
  },
  {
   "cell_type": "code",
   "execution_count": null,
   "metadata": {},
   "outputs": [],
   "source": [
    "prediction = np.mean(np.array(pred_GRU), axis=0)\n",
    "pred_prices = scaler_label.inverse_transform(prediction)\n",
    "true_prices = scaler_label.inverse_transform(y_test.reshape(-1,1))\n",
    "\n",
    "mse = mean_squared_error(pred_prices, true_prices)\n",
    "rmse = mean_squared_error(pred_prices, true_prices, squared=False)\n",
    "mae = mean_absolute_error(pred_prices, true_prices)\n",
    "\n",
    "metrics = '\\n'.join((\n",
    "    '$MSE=%f$' % (mse),\n",
    "    '$RMSE=%f$' % (rmse),\n",
    "    '$MAE=%f$' % (mae)\n",
    "))\n",
    "\n",
    "plt.figure(figsize=(26, 10))\n",
    "plt.plot(pred_prices, label='Prediction Price')\n",
    "plt.plot(true_prices, label='Ground Truth')\n",
    "plt.legend()\n",
    "plt.title('Predictions for GRU (15 min)')\n",
    "\n",
    "props = dict(boxstyle='round', facecolor='wheat', alpha=0.5)\n",
    "plt.text(0, 30000, metrics, fontsize=14,\n",
    "        verticalalignment='top', bbox=props)\n",
    "\n",
    "# plt.savefig('no_senti.png', dpi=500)\n",
    "plt.show()\n",
    "\n",
    "\n",
    "prediction = np.mean(np.array(pred_LSTM), axis=0)\n",
    "pred_prices = scaler_label.inverse_transform(prediction)\n",
    "true_prices = scaler_label.inverse_transform(y_test.reshape(-1,1))\n",
    "\n",
    "mse = mean_squared_error(pred_prices, true_prices)\n",
    "rmse = mean_squared_error(pred_prices, true_prices, squared=False)\n",
    "mae = mean_absolute_error(pred_prices, true_prices)\n",
    "\n",
    "metrics = '\\n'.join((\n",
    "    '$MSE=%f$' % (mse),\n",
    "    '$RMSE=%f$' % (rmse),\n",
    "    '$MAE=%f$' % (mae)\n",
    "))\n",
    "\n",
    "plt.figure(figsize=(26, 10))\n",
    "plt.plot(pred_prices, label='Prediction Price')\n",
    "plt.plot(true_prices, label='Ground Truth')\n",
    "plt.legend()\n",
    "plt.title('Predictions for LSTM (15 min)')\n",
    "\n",
    "props = dict(boxstyle='round', facecolor='wheat', alpha=0.5)\n",
    "plt.text(0, 30000, metrics, fontsize=14,\n",
    "        verticalalignment='top', bbox=props)\n",
    "\n",
    "# plt.savefig('no_senti.png', dpi=500)\n",
    "plt.show()"
   ]
  },
  {
   "cell_type": "code",
   "execution_count": null,
   "metadata": {},
   "outputs": [],
   "source": [
    "pred_GRU = [model.predict(X_train2) for model in GRU]\n",
    "pred_LSTM = [model.predict(X_train2) for model in LSTM]\n",
    "pred_LSTM = np.array(pred_LSTM)\n",
    "pred_GRU = np.array(pred_GRU)\n",
    "\n",
    "tmp = np.concatenate((pred_GRU, pred_LSTM), axis=0).squeeze().transpose()"
   ]
  },
  {
   "cell_type": "code",
   "execution_count": null,
   "metadata": {},
   "outputs": [],
   "source": [
    "batch_size = 8\n",
    "model = Sequential([\n",
    "                    Dense(50),\n",
    "                    Dense(100),\n",
    "                    Dense(25),\n",
    "                    Dense(1)\n",
    "                    ])\n",
    "\n",
    "model.compile(optimizer= Adam(learning_rate=5e-4), loss='mse', metrics=['accuracy'])\n",
    "\n",
    "model.fit(tmp, y_train2, batch_size = batch_size, epochs=50, verbose = 1)"
   ]
  },
  {
   "cell_type": "markdown",
   "metadata": {},
   "source": [
    "# Prediction for Meta-Model"
   ]
  },
  {
   "cell_type": "code",
   "execution_count": null,
   "metadata": {},
   "outputs": [],
   "source": [
    "pred_GRU = [model.predict(X_test) for model in GRU]\n",
    "pred_LSTM = [model.predict(X_test) for model in LSTM]\n",
    "\n",
    "pred_LSTM = np.array(pred_LSTM)\n",
    "pred_GRU = np.array(pred_GRU)\n",
    "\n",
    "tmp2 = np.concatenate((pred_GRU, pred_LSTM), axis=0).squeeze().transpose()\n",
    "\n",
    "prediction = model.predict(tmp2)"
   ]
  },
  {
   "cell_type": "code",
   "execution_count": null,
   "metadata": {},
   "outputs": [],
   "source": [
    "pred_prices = scaler_label.inverse_transform(prediction)\n",
    "true_prices = scaler_label.inverse_transform(y_test.reshape(-1,1))\n",
    "\n",
    "mse = mean_squared_error(true_prices, pred_prices)\n",
    "rmse = mean_squared_error(true_prices, pred_prices, squared=False)\n",
    "mae = mean_absolute_error(true_prices, pred_prices)\n",
    "\n",
    "metrics = '\\n'.join((\n",
    "    '$MSE=%f$' % (mse),\n",
    "    '$RMSE=%f$' % (rmse),\n",
    "    '$MAE=%f$' % (mae)\n",
    "))\n",
    "\n",
    "plt.figure(figsize=(26, 10))\n",
    "plt.plot(pred_prices, label='Prediction Price')\n",
    "plt.plot(true_prices, label='Ground Truth')\n",
    "plt.legend()\n",
    "plt.title('Predictions for Meta-Model (15 min)')\n",
    "\n",
    "props = dict(boxstyle='round', facecolor='wheat', alpha=0.5)\n",
    "plt.text(0, 30000, metrics, fontsize=14,\n",
    "        verticalalignment='top', bbox=props)\n",
    "\n",
    "# plt.savefig('no_senti.png', dpi=500)\n",
    "plt.show()"
   ]
  }
 ],
 "metadata": {
  "kernelspec": {
   "display_name": "Python 3 (ipykernel)",
   "language": "python",
   "name": "python3"
  },
  "orig_nbformat": 4,
  "vscode": {
   "interpreter": {
    "hash": "b0fa6594d8f4cbf19f97940f81e996739fb7646882a419484c72d19e05852a7e"
   }
  }
 },
 "nbformat": 4,
 "nbformat_minor": 2
}
