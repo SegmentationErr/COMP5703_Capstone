{
  "nbformat": 4,
  "nbformat_minor": 0,
  "metadata": {
    "colab": {
      "provenance": [],
      "collapsed_sections": [
        "MVeV9BrTG_tX",
        "Mq3-uTa7HJkM",
        "vAEOkt7JMKuv",
        "7orEj3OAMSL3"
      ]
    },
    "kernelspec": {
      "name": "python3",
      "display_name": "Python 3"
    },
    "language_info": {
      "name": "python"
    }
  },
  "cells": [
    {
      "cell_type": "code",
      "execution_count": null,
      "metadata": {
        "id": "egeqYTBs6faz",
        "colab": {
          "base_uri": "https://localhost:8080/",
          "height": 206
        },
        "outputId": "74cee9d0-6985-43dc-c0fc-63a725fc3358"
      },
      "outputs": [
        {
          "output_type": "execute_result",
          "data": {
            "text/plain": [
              "     time_period_start      time_period_end  price_open  price_high  \\\n",
              "0  2021-01-30 17:30:00  2021-01-30 17:45:00    34190.25    34239.84   \n",
              "1  2021-01-30 17:45:00  2021-01-30 18:00:00    34122.68    34279.45   \n",
              "2  2021-01-30 18:00:00  2021-01-30 18:15:00    34258.75    34335.37   \n",
              "3  2021-01-30 18:15:00  2021-01-30 18:30:00    34229.93    34363.25   \n",
              "4  2021-01-30 18:30:00  2021-01-30 18:45:00    34297.86    34306.84   \n",
              "\n",
              "   price_low  price_close  volume_traded  \n",
              "0   34056.18     34112.00      17.526346  \n",
              "1   34095.70     34237.36      21.251899  \n",
              "2   34107.93     34223.35      46.654135  \n",
              "3   34216.94     34291.82      27.195698  \n",
              "4   34139.57     34180.00      21.800071  "
            ],
            "text/html": [
              "\n",
              "  <div id=\"df-15b4796d-c488-4e9a-8f77-b68bd3fb8d2d\">\n",
              "    <div class=\"colab-df-container\">\n",
              "      <div>\n",
              "<style scoped>\n",
              "    .dataframe tbody tr th:only-of-type {\n",
              "        vertical-align: middle;\n",
              "    }\n",
              "\n",
              "    .dataframe tbody tr th {\n",
              "        vertical-align: top;\n",
              "    }\n",
              "\n",
              "    .dataframe thead th {\n",
              "        text-align: right;\n",
              "    }\n",
              "</style>\n",
              "<table border=\"1\" class=\"dataframe\">\n",
              "  <thead>\n",
              "    <tr style=\"text-align: right;\">\n",
              "      <th></th>\n",
              "      <th>time_period_start</th>\n",
              "      <th>time_period_end</th>\n",
              "      <th>price_open</th>\n",
              "      <th>price_high</th>\n",
              "      <th>price_low</th>\n",
              "      <th>price_close</th>\n",
              "      <th>volume_traded</th>\n",
              "    </tr>\n",
              "  </thead>\n",
              "  <tbody>\n",
              "    <tr>\n",
              "      <th>0</th>\n",
              "      <td>2021-01-30 17:30:00</td>\n",
              "      <td>2021-01-30 17:45:00</td>\n",
              "      <td>34190.25</td>\n",
              "      <td>34239.84</td>\n",
              "      <td>34056.18</td>\n",
              "      <td>34112.00</td>\n",
              "      <td>17.526346</td>\n",
              "    </tr>\n",
              "    <tr>\n",
              "      <th>1</th>\n",
              "      <td>2021-01-30 17:45:00</td>\n",
              "      <td>2021-01-30 18:00:00</td>\n",
              "      <td>34122.68</td>\n",
              "      <td>34279.45</td>\n",
              "      <td>34095.70</td>\n",
              "      <td>34237.36</td>\n",
              "      <td>21.251899</td>\n",
              "    </tr>\n",
              "    <tr>\n",
              "      <th>2</th>\n",
              "      <td>2021-01-30 18:00:00</td>\n",
              "      <td>2021-01-30 18:15:00</td>\n",
              "      <td>34258.75</td>\n",
              "      <td>34335.37</td>\n",
              "      <td>34107.93</td>\n",
              "      <td>34223.35</td>\n",
              "      <td>46.654135</td>\n",
              "    </tr>\n",
              "    <tr>\n",
              "      <th>3</th>\n",
              "      <td>2021-01-30 18:15:00</td>\n",
              "      <td>2021-01-30 18:30:00</td>\n",
              "      <td>34229.93</td>\n",
              "      <td>34363.25</td>\n",
              "      <td>34216.94</td>\n",
              "      <td>34291.82</td>\n",
              "      <td>27.195698</td>\n",
              "    </tr>\n",
              "    <tr>\n",
              "      <th>4</th>\n",
              "      <td>2021-01-30 18:30:00</td>\n",
              "      <td>2021-01-30 18:45:00</td>\n",
              "      <td>34297.86</td>\n",
              "      <td>34306.84</td>\n",
              "      <td>34139.57</td>\n",
              "      <td>34180.00</td>\n",
              "      <td>21.800071</td>\n",
              "    </tr>\n",
              "  </tbody>\n",
              "</table>\n",
              "</div>\n",
              "      <button class=\"colab-df-convert\" onclick=\"convertToInteractive('df-15b4796d-c488-4e9a-8f77-b68bd3fb8d2d')\"\n",
              "              title=\"Convert this dataframe to an interactive table.\"\n",
              "              style=\"display:none;\">\n",
              "        \n",
              "  <svg xmlns=\"http://www.w3.org/2000/svg\" height=\"24px\"viewBox=\"0 0 24 24\"\n",
              "       width=\"24px\">\n",
              "    <path d=\"M0 0h24v24H0V0z\" fill=\"none\"/>\n",
              "    <path d=\"M18.56 5.44l.94 2.06.94-2.06 2.06-.94-2.06-.94-.94-2.06-.94 2.06-2.06.94zm-11 1L8.5 8.5l.94-2.06 2.06-.94-2.06-.94L8.5 2.5l-.94 2.06-2.06.94zm10 10l.94 2.06.94-2.06 2.06-.94-2.06-.94-.94-2.06-.94 2.06-2.06.94z\"/><path d=\"M17.41 7.96l-1.37-1.37c-.4-.4-.92-.59-1.43-.59-.52 0-1.04.2-1.43.59L10.3 9.45l-7.72 7.72c-.78.78-.78 2.05 0 2.83L4 21.41c.39.39.9.59 1.41.59.51 0 1.02-.2 1.41-.59l7.78-7.78 2.81-2.81c.8-.78.8-2.07 0-2.86zM5.41 20L4 18.59l7.72-7.72 1.47 1.35L5.41 20z\"/>\n",
              "  </svg>\n",
              "      </button>\n",
              "      \n",
              "  <style>\n",
              "    .colab-df-container {\n",
              "      display:flex;\n",
              "      flex-wrap:wrap;\n",
              "      gap: 12px;\n",
              "    }\n",
              "\n",
              "    .colab-df-convert {\n",
              "      background-color: #E8F0FE;\n",
              "      border: none;\n",
              "      border-radius: 50%;\n",
              "      cursor: pointer;\n",
              "      display: none;\n",
              "      fill: #1967D2;\n",
              "      height: 32px;\n",
              "      padding: 0 0 0 0;\n",
              "      width: 32px;\n",
              "    }\n",
              "\n",
              "    .colab-df-convert:hover {\n",
              "      background-color: #E2EBFA;\n",
              "      box-shadow: 0px 1px 2px rgba(60, 64, 67, 0.3), 0px 1px 3px 1px rgba(60, 64, 67, 0.15);\n",
              "      fill: #174EA6;\n",
              "    }\n",
              "\n",
              "    [theme=dark] .colab-df-convert {\n",
              "      background-color: #3B4455;\n",
              "      fill: #D2E3FC;\n",
              "    }\n",
              "\n",
              "    [theme=dark] .colab-df-convert:hover {\n",
              "      background-color: #434B5C;\n",
              "      box-shadow: 0px 1px 3px 1px rgba(0, 0, 0, 0.15);\n",
              "      filter: drop-shadow(0px 1px 2px rgba(0, 0, 0, 0.3));\n",
              "      fill: #FFFFFF;\n",
              "    }\n",
              "  </style>\n",
              "\n",
              "      <script>\n",
              "        const buttonEl =\n",
              "          document.querySelector('#df-15b4796d-c488-4e9a-8f77-b68bd3fb8d2d button.colab-df-convert');\n",
              "        buttonEl.style.display =\n",
              "          google.colab.kernel.accessAllowed ? 'block' : 'none';\n",
              "\n",
              "        async function convertToInteractive(key) {\n",
              "          const element = document.querySelector('#df-15b4796d-c488-4e9a-8f77-b68bd3fb8d2d');\n",
              "          const dataTable =\n",
              "            await google.colab.kernel.invokeFunction('convertToInteractive',\n",
              "                                                     [key], {});\n",
              "          if (!dataTable) return;\n",
              "\n",
              "          const docLinkHtml = 'Like what you see? Visit the ' +\n",
              "            '<a target=\"_blank\" href=https://colab.research.google.com/notebooks/data_table.ipynb>data table notebook</a>'\n",
              "            + ' to learn more about interactive tables.';\n",
              "          element.innerHTML = '';\n",
              "          dataTable['output_type'] = 'display_data';\n",
              "          await google.colab.output.renderOutput(dataTable, element);\n",
              "          const docLink = document.createElement('div');\n",
              "          docLink.innerHTML = docLinkHtml;\n",
              "          element.appendChild(docLink);\n",
              "        }\n",
              "      </script>\n",
              "    </div>\n",
              "  </div>\n",
              "  "
            ]
          },
          "metadata": {},
          "execution_count": 55
        }
      ],
      "source": [
        "import pandas as pd\n",
        "btc = pd.read_csv('/content/15MIN (1).csv')\n",
        "btc.head()"
      ]
    },
    {
      "cell_type": "code",
      "source": [
        "btc = btc.drop(['time_period_end'], axis=1)\n",
        "btc = btc.rename(columns={\"time_period_start\": \"timestamp\"})\n",
        "btc['timestamp'] = pd.to_datetime(btc['timestamp'], format='%Y-%m-%d %H:%M:%S')\n",
        "btc['timestamp'] = btc['timestamp'].dt.strftime('%Y-%m-%d %H:%M:%S')\n",
        "\n",
        "btc.info"
      ],
      "metadata": {
        "colab": {
          "base_uri": "https://localhost:8080/"
        },
        "id": "DsGeYtfn673L",
        "outputId": "229bebd1-3d96-4741-c5ce-6c3fe777906d"
      },
      "execution_count": null,
      "outputs": [
        {
          "output_type": "execute_result",
          "data": {
            "text/plain": [
              "<bound method DataFrame.info of                  timestamp  price_open  price_high  price_low  price_close  \\\n",
              "0      2021-01-30 17:30:00    34190.25    34239.84   34056.18     34112.00   \n",
              "1      2021-01-30 17:45:00    34122.68    34279.45   34095.70     34237.36   \n",
              "2      2021-01-30 18:00:00    34258.75    34335.37   34107.93     34223.35   \n",
              "3      2021-01-30 18:15:00    34229.93    34363.25   34216.94     34291.82   \n",
              "4      2021-01-30 18:30:00    34297.86    34306.84   34139.57     34180.00   \n",
              "...                    ...         ...         ...        ...          ...   \n",
              "32181  2021-12-31 22:45:00    46281.00    46462.67   46254.81     46322.70   \n",
              "32182  2021-12-31 23:00:00    46322.70    46467.04   46313.24     46437.73   \n",
              "32183  2021-12-31 23:15:00    46450.59    46479.19   46345.18     46345.18   \n",
              "32184  2021-12-31 23:30:00    46371.97    46488.57   46371.97     46483.24   \n",
              "32185  2021-12-31 23:45:00    46434.34    46435.77   46140.00     46214.37   \n",
              "\n",
              "       volume_traded  \n",
              "0          17.526346  \n",
              "1          21.251899  \n",
              "2          46.654135  \n",
              "3          27.195698  \n",
              "4          21.800071  \n",
              "...              ...  \n",
              "32181      19.802072  \n",
              "32182       9.423845  \n",
              "32183      11.689226  \n",
              "32184       7.432113  \n",
              "32185       9.473986  \n",
              "\n",
              "[32186 rows x 6 columns]>"
            ]
          },
          "metadata": {},
          "execution_count": 56
        }
      ]
    },
    {
      "cell_type": "markdown",
      "source": [
        "# Calculate and Append MACD"
      ],
      "metadata": {
        "id": "MVeV9BrTG_tX"
      }
    },
    {
      "cell_type": "code",
      "source": [
        "def calculate_SMA12(head):\n",
        "    return head['price_close'].sum()/12\n",
        "\n",
        "def calculate_SMA26(head):\n",
        "    return head['price_close'].sum()/26\n",
        "\n",
        "def calculate_EMA12(df):\n",
        "    ema12_list = []\n",
        "    prev_ema = -1\n",
        "    k = 2/(12+1)\n",
        "    for ind in range(len(df)):\n",
        "        if ind < 26:\n",
        "            ema12_list.append(-1)\n",
        "        else:\n",
        "            if prev_ema == -1:\n",
        "                sma = calculate_SMA12(df[14:ind])\n",
        "                ema = k*(df['price_close'][ind]-sma)+sma\n",
        "                prev_ema = ema\n",
        "            else:\n",
        "                ema = k*(df['price_close'][ind]-prev_ema)+prev_ema\n",
        "            ema12_list.append(ema)\n",
        "\n",
        "    return ema12_list\n",
        "\n",
        "def calculate_EMA26(df):\n",
        "    ema26_list = []\n",
        "    prev_ema = -1\n",
        "    k = 2/(26+1)\n",
        "    for ind in range(len(df)):\n",
        "        if ind < 26:\n",
        "            ema26_list.append(-1)\n",
        "        else:\n",
        "            if prev_ema == -1:\n",
        "                sma = calculate_SMA26(df[0:ind])\n",
        "                ema = k*(df['price_close'][ind]-sma)+sma\n",
        "                prev_ema = ema\n",
        "            else:\n",
        "                ema = k*(df['price_close'][ind]-prev_ema)+prev_ema\n",
        "            ema26_list.append(ema)\n",
        "\n",
        "    return ema26_list\n",
        "\n",
        "def calculate_and_append_MACD(df):\n",
        "    macd_list = []\n",
        "    ema12_list = calculate_EMA12(df)\n",
        "    ema26_list = calculate_EMA26(df)\n",
        "    for i in range(len(ema12_list)):\n",
        "        macd_list.append(ema12_list[i] - ema26_list[i])\n",
        "    df['MACD'] = macd_list\n",
        "\n",
        "    return df"
      ],
      "metadata": {
        "id": "uIQ-wOOb7Whv"
      },
      "execution_count": null,
      "outputs": []
    },
    {
      "cell_type": "code",
      "source": [
        "btc = calculate_and_append_MACD(btc)\n",
        "\n",
        "btc.head"
      ],
      "metadata": {
        "colab": {
          "base_uri": "https://localhost:8080/"
        },
        "id": "ynxFfwxYBUgY",
        "outputId": "d4d6a8af-157e-4029-cd8b-ceea93d35faf"
      },
      "execution_count": null,
      "outputs": [
        {
          "output_type": "execute_result",
          "data": {
            "text/plain": [
              "<bound method NDFrame.head of                  timestamp  price_open  price_high  price_low  price_close  \\\n",
              "0      2021-01-30 17:30:00    34190.25    34239.84   34056.18     34112.00   \n",
              "1      2021-01-30 17:45:00    34122.68    34279.45   34095.70     34237.36   \n",
              "2      2021-01-30 18:00:00    34258.75    34335.37   34107.93     34223.35   \n",
              "3      2021-01-30 18:15:00    34229.93    34363.25   34216.94     34291.82   \n",
              "4      2021-01-30 18:30:00    34297.86    34306.84   34139.57     34180.00   \n",
              "...                    ...         ...         ...        ...          ...   \n",
              "32181  2021-12-31 22:45:00    46281.00    46462.67   46254.81     46322.70   \n",
              "32182  2021-12-31 23:00:00    46322.70    46467.04   46313.24     46437.73   \n",
              "32183  2021-12-31 23:15:00    46450.59    46479.19   46345.18     46345.18   \n",
              "32184  2021-12-31 23:30:00    46371.97    46488.57   46371.97     46483.24   \n",
              "32185  2021-12-31 23:45:00    46434.34    46435.77   46140.00     46214.37   \n",
              "\n",
              "       volume_traded         MACD  \n",
              "0          17.526346     0.000000  \n",
              "1          21.251899     0.000000  \n",
              "2          46.654135     0.000000  \n",
              "3          27.195698     0.000000  \n",
              "4          21.800071     0.000000  \n",
              "...              ...          ...  \n",
              "32181      19.802072  1018.672361  \n",
              "32182       9.423845  1027.848543  \n",
              "32183      11.689226  1020.465637  \n",
              "32184       7.432113  1031.478971  \n",
              "32185       9.473986  1010.030652  \n",
              "\n",
              "[32186 rows x 7 columns]>"
            ]
          },
          "metadata": {},
          "execution_count": 58
        }
      ]
    },
    {
      "cell_type": "markdown",
      "source": [
        "# SMA"
      ],
      "metadata": {
        "id": "Mq3-uTa7HJkM"
      }
    },
    {
      "cell_type": "code",
      "source": [
        "def calculate_SMA(head):\n",
        "    return head['price_close'].sum()/5\n",
        "\n",
        "def calculate_and_append_SMA(df):\n",
        "    sma_list = []\n",
        "    for ind in range(len(df)):\n",
        "        if ind < 26:\n",
        "            sma_list.append(-1)\n",
        "        else:\n",
        "            sma = calculate_SMA(df[ind-4:ind+1])\n",
        "            sma_list.append(sma)\n",
        "    df['SMA'] = sma_list\n",
        "\n",
        "    return df"
      ],
      "metadata": {
        "id": "8g9zqR3XHIpf"
      },
      "execution_count": null,
      "outputs": []
    },
    {
      "cell_type": "code",
      "source": [
        "btc = calculate_and_append_SMA(btc)\n",
        "\n",
        "btc.head"
      ],
      "metadata": {
        "colab": {
          "base_uri": "https://localhost:8080/"
        },
        "id": "pMOE9vPJKDFE",
        "outputId": "4bb5e9b5-76d1-42fb-c0d6-07e7035f45dd"
      },
      "execution_count": null,
      "outputs": [
        {
          "output_type": "execute_result",
          "data": {
            "text/plain": [
              "<bound method NDFrame.head of                  timestamp  price_open  price_high  price_low  price_close  \\\n",
              "0      2021-01-30 17:30:00    34190.25    34239.84   34056.18     34112.00   \n",
              "1      2021-01-30 17:45:00    34122.68    34279.45   34095.70     34237.36   \n",
              "2      2021-01-30 18:00:00    34258.75    34335.37   34107.93     34223.35   \n",
              "3      2021-01-30 18:15:00    34229.93    34363.25   34216.94     34291.82   \n",
              "4      2021-01-30 18:30:00    34297.86    34306.84   34139.57     34180.00   \n",
              "...                    ...         ...         ...        ...          ...   \n",
              "32181  2021-12-31 22:45:00    46281.00    46462.67   46254.81     46322.70   \n",
              "32182  2021-12-31 23:00:00    46322.70    46467.04   46313.24     46437.73   \n",
              "32183  2021-12-31 23:15:00    46450.59    46479.19   46345.18     46345.18   \n",
              "32184  2021-12-31 23:30:00    46371.97    46488.57   46371.97     46483.24   \n",
              "32185  2021-12-31 23:45:00    46434.34    46435.77   46140.00     46214.37   \n",
              "\n",
              "       volume_traded         MACD        SMA  \n",
              "0          17.526346     0.000000     -1.000  \n",
              "1          21.251899     0.000000     -1.000  \n",
              "2          46.654135     0.000000     -1.000  \n",
              "3          27.195698     0.000000     -1.000  \n",
              "4          21.800071     0.000000     -1.000  \n",
              "...              ...          ...        ...  \n",
              "32181      19.802072  1018.672361  46366.832  \n",
              "32182       9.423845  1027.848543  46388.540  \n",
              "32183      11.689226  1020.465637  46365.640  \n",
              "32184       7.432113  1031.478971  46377.970  \n",
              "32185       9.473986  1010.030652  46360.644  \n",
              "\n",
              "[32186 rows x 8 columns]>"
            ]
          },
          "metadata": {},
          "execution_count": 60
        }
      ]
    },
    {
      "cell_type": "markdown",
      "source": [
        "# OBV"
      ],
      "metadata": {
        "id": "vAEOkt7JMKuv"
      }
    },
    {
      "cell_type": "code",
      "source": [
        "def calculate_and_append_OBV(df):\n",
        "    obv_list = []\n",
        "    obv = 0\n",
        "    for ind in range(len(df)):\n",
        "        if ind < 26:\n",
        "            obv_list.append(-1)\n",
        "        else:\n",
        "            if df['price_close'][ind] > df['price_close'][ind-1]:\n",
        "                obv = obv + df['volume_traded'][ind]\n",
        "            elif df['price_close'][ind] < df['price_close'][ind-1]:\n",
        "                obv = obv - df['volume_traded'][ind]\n",
        "            obv_list.append(obv)\n",
        "    df['OBV'] = obv_list\n",
        "\n",
        "    return df"
      ],
      "metadata": {
        "id": "y2KneV58MPuo"
      },
      "execution_count": null,
      "outputs": []
    },
    {
      "cell_type": "code",
      "source": [
        "btc = calculate_and_append_OBV(btc)\n",
        "btc.info"
      ],
      "metadata": {
        "colab": {
          "base_uri": "https://localhost:8080/"
        },
        "id": "Cy8bQH5pP5X-",
        "outputId": "f41ac28f-6725-48ad-fd22-4e56025ed493"
      },
      "execution_count": null,
      "outputs": [
        {
          "output_type": "execute_result",
          "data": {
            "text/plain": [
              "<bound method DataFrame.info of                  timestamp  price_open  price_high  price_low  price_close  \\\n",
              "0      2021-01-30 17:30:00    34190.25    34239.84   34056.18     34112.00   \n",
              "1      2021-01-30 17:45:00    34122.68    34279.45   34095.70     34237.36   \n",
              "2      2021-01-30 18:00:00    34258.75    34335.37   34107.93     34223.35   \n",
              "3      2021-01-30 18:15:00    34229.93    34363.25   34216.94     34291.82   \n",
              "4      2021-01-30 18:30:00    34297.86    34306.84   34139.57     34180.00   \n",
              "...                    ...         ...         ...        ...          ...   \n",
              "32181  2021-12-31 22:45:00    46281.00    46462.67   46254.81     46322.70   \n",
              "32182  2021-12-31 23:00:00    46322.70    46467.04   46313.24     46437.73   \n",
              "32183  2021-12-31 23:15:00    46450.59    46479.19   46345.18     46345.18   \n",
              "32184  2021-12-31 23:30:00    46371.97    46488.57   46371.97     46483.24   \n",
              "32185  2021-12-31 23:45:00    46434.34    46435.77   46140.00     46214.37   \n",
              "\n",
              "       volume_traded         MACD        SMA          OBV  \n",
              "0          17.526346     0.000000     -1.000    -1.000000  \n",
              "1          21.251899     0.000000     -1.000    -1.000000  \n",
              "2          46.654135     0.000000     -1.000    -1.000000  \n",
              "3          27.195698     0.000000     -1.000    -1.000000  \n",
              "4          21.800071     0.000000     -1.000    -1.000000  \n",
              "...              ...          ...        ...          ...  \n",
              "32181      19.802072  1018.672361  46366.832 -5186.936944  \n",
              "32182       9.423845  1027.848543  46388.540 -5177.513099  \n",
              "32183      11.689226  1020.465637  46365.640 -5189.202326  \n",
              "32184       7.432113  1031.478971  46377.970 -5181.770213  \n",
              "32185       9.473986  1010.030652  46360.644 -5191.244199  \n",
              "\n",
              "[32186 rows x 9 columns]>"
            ]
          },
          "metadata": {},
          "execution_count": 62
        }
      ]
    },
    {
      "cell_type": "markdown",
      "source": [
        "# RSI"
      ],
      "metadata": {
        "id": "7orEj3OAMSL3"
      }
    },
    {
      "cell_type": "code",
      "source": [
        "def init_rsi(df):\n",
        "    gain = []\n",
        "    loss = []\n",
        "    tmp = 0\n",
        "    for ind in range(13, 26):\n",
        "        diff = df['price_close'][ind] - df['price_close'][ind-1]\n",
        "        if diff > 0:\n",
        "            gain.append(diff)\n",
        "        else:\n",
        "            loss.append(-1*diff)\n",
        "    avg_gain = sum(gain)/14\n",
        "    avg_loss = sum(loss)/14\n",
        "\n",
        "    return avg_gain, avg_loss\n",
        "\n",
        "def calculate_and_append_RSI(df):\n",
        "    rsi_list = []\n",
        "    avg_gain = 0\n",
        "    avg_loss = 0\n",
        "    for ind in range(len(df)):\n",
        "        if ind < 26:\n",
        "            rsi_list.append(-1)\n",
        "        elif ind == 26:\n",
        "            avg_gain, avg_loss = init_rsi(df[12:ind])\n",
        "            rsi = 100 - 100/(1 + avg_gain/avg_loss)\n",
        "            rsi_list.append(rsi)\n",
        "        else:\n",
        "            diff = df['price_close'][ind] - df['price_close'][ind-1]\n",
        "            if diff > 0:\n",
        "                avg_gain = (avg_gain*13 + diff) / 14\n",
        "            elif diff < 0:\n",
        "                avg_loss = (avg_loss*13 + -1*diff) / 14\n",
        "            rsi = 100 - 100/(1 + avg_gain/avg_loss)\n",
        "            rsi_list.append(rsi)\n",
        "\n",
        "    df['RSI'] = rsi_list\n",
        "\n",
        "    return df\n"
      ],
      "metadata": {
        "id": "UuYHz3e-MWGv"
      },
      "execution_count": null,
      "outputs": []
    },
    {
      "cell_type": "code",
      "source": [
        "btc = calculate_and_append_RSI(btc)\n",
        "\n",
        "btc.info"
      ],
      "metadata": {
        "colab": {
          "base_uri": "https://localhost:8080/"
        },
        "id": "7GBQcYG0Y4gB",
        "outputId": "73f6c4dc-dbd0-486f-e7ef-d0c949d8b9e0"
      },
      "execution_count": null,
      "outputs": [
        {
          "output_type": "execute_result",
          "data": {
            "text/plain": [
              "<bound method DataFrame.info of                  timestamp  price_open  price_high  price_low  price_close  \\\n",
              "0      2021-01-30 17:30:00    34190.25    34239.84   34056.18     34112.00   \n",
              "1      2021-01-30 17:45:00    34122.68    34279.45   34095.70     34237.36   \n",
              "2      2021-01-30 18:00:00    34258.75    34335.37   34107.93     34223.35   \n",
              "3      2021-01-30 18:15:00    34229.93    34363.25   34216.94     34291.82   \n",
              "4      2021-01-30 18:30:00    34297.86    34306.84   34139.57     34180.00   \n",
              "...                    ...         ...         ...        ...          ...   \n",
              "32181  2021-12-31 22:45:00    46281.00    46462.67   46254.81     46322.70   \n",
              "32182  2021-12-31 23:00:00    46322.70    46467.04   46313.24     46437.73   \n",
              "32183  2021-12-31 23:15:00    46450.59    46479.19   46345.18     46345.18   \n",
              "32184  2021-12-31 23:30:00    46371.97    46488.57   46371.97     46483.24   \n",
              "32185  2021-12-31 23:45:00    46434.34    46435.77   46140.00     46214.37   \n",
              "\n",
              "       volume_traded         MACD        SMA          OBV        RSI  \n",
              "0          17.526346     0.000000     -1.000    -1.000000  -1.000000  \n",
              "1          21.251899     0.000000     -1.000    -1.000000  -1.000000  \n",
              "2          46.654135     0.000000     -1.000    -1.000000  -1.000000  \n",
              "3          27.195698     0.000000     -1.000    -1.000000  -1.000000  \n",
              "4          21.800071     0.000000     -1.000    -1.000000  -1.000000  \n",
              "...              ...          ...        ...          ...        ...  \n",
              "32181      19.802072  1018.672361  46366.832 -5186.936944  47.329513  \n",
              "32182       9.423845  1027.848543  46388.540 -5177.513099  47.371106  \n",
              "32183      11.689226  1020.465637  46365.640 -5189.202326  47.838882  \n",
              "32184       7.432113  1031.478971  46377.970 -5181.770213  48.238997  \n",
              "32185       9.473986  1010.030652  46360.644 -5191.244199  46.205807  \n",
              "\n",
              "[32186 rows x 10 columns]>"
            ]
          },
          "metadata": {},
          "execution_count": 64
        }
      ]
    },
    {
      "cell_type": "markdown",
      "source": [
        "# MFI"
      ],
      "metadata": {
        "id": "MsvuJ3FRMXnw"
      }
    },
    {
      "cell_type": "code",
      "source": [
        "def calculate_money_ratio(df, start, end):\n",
        "    pos_flow_14 = 0\n",
        "    neg_flow_14 = 0\n",
        "    prev_typical_price = (df['price_low'][start]+df['price_high'][start]+df['price_close'][start])/3\n",
        "    \n",
        "\n",
        "    for ind in range(start, end):\n",
        "        typical_price = (df['price_low'][ind]+df['price_high'][ind]+df['price_close'][ind])/3\n",
        "        if typical_price > prev_typical_price:\n",
        "            pos_flow_14 = pos_flow_14 + typical_price*df['volume_traded'][ind]\n",
        "        else:\n",
        "            neg_flow_14 = neg_flow_14 + typical_price*df['volume_traded'][ind]\n",
        "    money_ratio = pos_flow_14/neg_flow_14\n",
        "\n",
        "    return money_ratio\n",
        "\n",
        "def calculate_and_append_MFI(df):\n",
        "    mfi_list = []\n",
        "    for ind in range(len(df)):\n",
        "        if ind < 26:\n",
        "            mfi_list.append(-1)\n",
        "        else:           \n",
        "            mr = calculate_money_ratio(df[ind-13:ind+1], ind-13, ind+1)\n",
        "            mfi = 100 - 100/(1+mr)\n",
        "            mfi_list.append(mfi)\n",
        "    df['MFI'] = mfi_list\n",
        "\n",
        "    return df"
      ],
      "metadata": {
        "id": "foqPXiDXMbqZ"
      },
      "execution_count": null,
      "outputs": []
    },
    {
      "cell_type": "code",
      "source": [
        "btc = calculate_and_append_MFI(btc)\n",
        "\n",
        "btc.info"
      ],
      "metadata": {
        "colab": {
          "base_uri": "https://localhost:8080/"
        },
        "id": "ohhWc9ptnHh9",
        "outputId": "111ceeed-c2c0-4282-a290-7c03f7c88c22"
      },
      "execution_count": null,
      "outputs": [
        {
          "output_type": "execute_result",
          "data": {
            "text/plain": [
              "<bound method DataFrame.info of                  timestamp  price_open  price_high  price_low  price_close  \\\n",
              "0      2021-01-30 17:30:00    34190.25    34239.84   34056.18     34112.00   \n",
              "1      2021-01-30 17:45:00    34122.68    34279.45   34095.70     34237.36   \n",
              "2      2021-01-30 18:00:00    34258.75    34335.37   34107.93     34223.35   \n",
              "3      2021-01-30 18:15:00    34229.93    34363.25   34216.94     34291.82   \n",
              "4      2021-01-30 18:30:00    34297.86    34306.84   34139.57     34180.00   \n",
              "...                    ...         ...         ...        ...          ...   \n",
              "32181  2021-12-31 22:45:00    46281.00    46462.67   46254.81     46322.70   \n",
              "32182  2021-12-31 23:00:00    46322.70    46467.04   46313.24     46437.73   \n",
              "32183  2021-12-31 23:15:00    46450.59    46479.19   46345.18     46345.18   \n",
              "32184  2021-12-31 23:30:00    46371.97    46488.57   46371.97     46483.24   \n",
              "32185  2021-12-31 23:45:00    46434.34    46435.77   46140.00     46214.37   \n",
              "\n",
              "       volume_traded         MACD        SMA          OBV        RSI  \\\n",
              "0          17.526346     0.000000     -1.000    -1.000000  -1.000000   \n",
              "1          21.251899     0.000000     -1.000    -1.000000  -1.000000   \n",
              "2          46.654135     0.000000     -1.000    -1.000000  -1.000000   \n",
              "3          27.195698     0.000000     -1.000    -1.000000  -1.000000   \n",
              "4          21.800071     0.000000     -1.000    -1.000000  -1.000000   \n",
              "...              ...          ...        ...          ...        ...   \n",
              "32181      19.802072  1018.672361  46366.832 -5186.936944  47.329513   \n",
              "32182       9.423845  1027.848543  46388.540 -5177.513099  47.371106   \n",
              "32183      11.689226  1020.465637  46365.640 -5189.202326  47.838882   \n",
              "32184       7.432113  1031.478971  46377.970 -5181.770213  48.238997   \n",
              "32185       9.473986  1010.030652  46360.644 -5191.244199  46.205807   \n",
              "\n",
              "             MFI  \n",
              "0      -1.000000  \n",
              "1      -1.000000  \n",
              "2      -1.000000  \n",
              "3      -1.000000  \n",
              "4      -1.000000  \n",
              "...          ...  \n",
              "32181  25.098484  \n",
              "32182  67.890433  \n",
              "32183  54.377808  \n",
              "32184  60.961730  \n",
              "32185  68.352453  \n",
              "\n",
              "[32186 rows x 11 columns]>"
            ]
          },
          "metadata": {},
          "execution_count": 66
        }
      ]
    },
    {
      "cell_type": "code",
      "source": [
        "btc.to_csv('/content/15MIN_Tech.csv', index=False)"
      ],
      "metadata": {
        "id": "XA39x_7MrRGg"
      },
      "execution_count": null,
      "outputs": []
    }
  ]
}